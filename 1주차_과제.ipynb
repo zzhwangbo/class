{
  "nbformat": 4,
  "nbformat_minor": 0,
  "metadata": {
    "colab": {
      "name": "1주차 과제",
      "provenance": [],
      "authorship_tag": "ABX9TyMi9pIYtksEAQg+MO8gcHGt",
      "include_colab_link": true
    },
    "kernelspec": {
      "name": "python3",
      "display_name": "Python 3"
    }
  },
  "cells": [
    {
      "cell_type": "markdown",
      "metadata": {
        "id": "view-in-github",
        "colab_type": "text"
      },
      "source": [
        "<a href=\"https://colab.research.google.com/github/zzhwangbo/class/blob/master/1%EC%A3%BC%EC%B0%A8_%EA%B3%BC%EC%A0%9C.ipynb\" target=\"_parent\"><img src=\"https://colab.research.google.com/assets/colab-badge.svg\" alt=\"Open In Colab\"/></a>"
      ]
    },
    {
      "cell_type": "markdown",
      "metadata": {
        "id": "EBPJyQeu4eoc",
        "colab_type": "text"
      },
      "source": [
        "#1주차 과제\n",
        "### - 언어, 음성, 이미지, 자율주행의 분야에서 인공지능기술이 적용된 사례를 알아보자.\n",
        "\n",
        "1. 언어\n",
        "   + 인공지능 번역기 [링크](http://biz.khan.co.kr/khan_art_view.html?artid=201612151142001&code=920501)   \n",
        "   \n",
        "2. 음성\n",
        "   + 인공지능 스피커 [링크](https://www.uplus.co.kr/com/cpif/lgin/lgns/RetrieveComNewsListView.hpi?cntnsSrlno=919240)\n",
        "\n",
        "3. 이미지\n",
        "   + 안면인식 도어록 [링크](http://www.onface.kr/sub/sub_02_04_02.php)\n",
        "\n",
        "4. 자율주행\n",
        "   + 자율주행 자동차 [링크](https://www.nvidia.com/ko-kr/industries/transportation/)\n",
        "   + 가정용 로봇 [링크](http://www.irobotnews.com/news/articleView.html?idxno=5341)"
      ]
    }
  ]
}