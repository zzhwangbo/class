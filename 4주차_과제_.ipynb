{
  "nbformat": 4,
  "nbformat_minor": 0,
  "metadata": {
    "colab": {
      "name": "4주차 과제.",
      "provenance": [],
      "collapsed_sections": [],
      "toc_visible": true,
      "include_colab_link": true
    },
    "kernelspec": {
      "name": "python3",
      "display_name": "Python 3"
    }
  },
  "cells": [
    {
      "cell_type": "markdown",
      "metadata": {
        "id": "view-in-github",
        "colab_type": "text"
      },
      "source": [
        "<a href=\"https://colab.research.google.com/github/zzhwangbo/test/blob/master/4%EC%A3%BC%EC%B0%A8_%EA%B3%BC%EC%A0%9C_.ipynb\" target=\"_parent\"><img src=\"https://colab.research.google.com/assets/colab-badge.svg\" alt=\"Open In Colab\"/></a>"
      ]
    },
    {
      "cell_type": "markdown",
      "metadata": {
        "id": "wxkL6PjwsI6L",
        "colab_type": "text"
      },
      "source": [
        "# 4주차 과제\n",
        "- 용어 정리\n",
        "- 딥러닝 강의 클론 코딩\n",
        "- 딥러닝 순전파 & 역전파 계산"
      ]
    },
    {
      "cell_type": "markdown",
      "metadata": {
        "id": "ixEtDe6_uGgI",
        "colab_type": "text"
      },
      "source": [
        "## 1. 용어 정리\n",
        "\n",
        "다음 제시된 단어의 정의(설명)를 정리하여 작성 하세요.\n",
        "\n",
        "* 2문장 이상 작성 해 주세요. \n",
        "* 주제(단어)와 크게 벗어나지만 않는다면 정답처리 됩니다.\n",
        "* 강의 뿐 아니라 기타 레퍼런스를 참고하여 작성하셔도 됩니다. (기타 레퍼런스를 참고하신 경우, 해당 레퍼런스를 정리하여 하단에 작성해 주세요.)\n"
      ]
    },
    {
      "cell_type": "markdown",
      "metadata": {
        "id": "0lfwat8eurKZ",
        "colab_type": "text"
      },
      "source": [
        "__(예시)__\n",
        "### 심층 신경망\n",
        ": 입력층과 출력층 사이에 여러 개의 은닉층들로 이뤄진 인공신경망이다. 심층 신경망은 일반적으로 인공신경망과 마찬가지로 복잡한 비선형 관계들을 모델링 할 수 있다. 신층신경망의 목적은 분류 및 수치예측을 하기 위함이고 이미지 트레이닝이나 문자인식과 같은 분야에서 매우 유용하게 쓰이고 있다."
      ]
    },
    {
      "cell_type": "markdown",
      "metadata": {
        "id": "Y8YJNKG_v65A",
        "colab_type": "text"
      },
      "source": [
        "### MCP 뉴런\n",
        ": 여러 개의 입력 신호가 가지돌기에 도착하면 신경세포 내에서 이들을 하나의 신호로 통합하고, 통합된 신호값이 어떤 임계값을 초과하면 하나의 단일 신호가 생성됩니다. 이 신호가 축삭돌기를 통해 다른 신경세포로 전달됩니다. 이렇게 단순화 된 원리로 동작하는 뇌 세포를 MCP 뉴런이라 부릅니다. [참고](https://m.blog.naver.com/PostView.nhn?blogId=samsjang&logNo=220948258166&proxyReferer=http:%2F%2F59.0.190.55%2Ftm%2F%3Fa%3DCR%26b%3DWIN%26c%3D300016544670%26d%3D32%26e%3D8402%26f%3DbS5ibG9nLm5hdmVyLmNvbS9zYW1zamFuZy8yMjA5NDgyNTgxNjY%3D%26g%3D1592291228333%26h%3D1592291227068%26y%3D0%26z%3D0%26x%3D1%26w%3D2020-05-13%26in%3D8402_1607_00031166%26id%3D20200616)\n",
        "### 퍼셉트론\n",
        ": 퍼셉트론은 다수의 트레이닝 데이터를 이용하여 일종의 지도 학습을 수행하는 알고리즘입니다. 트레이닝 데이터에는 데이터의 특성값에 대응되는 실제 결과값을 가지고 있어야 합니다. [참고](https://m.blog.naver.com/PostView.nhn?blogId=samsjang&logNo=220948258166&proxyReferer=http:%2F%2F59.0.190.55%2Ftm%2F%3Fa%3DCR%26b%3DWIN%26c%3D300016544670%26d%3D32%26e%3D8402%26f%3DbS5ibG9nLm5hdmVyLmNvbS9zYW1zamFuZy8yMjA5NDgyNTgxNjY%3D%26g%3D1592291228333%26h%3D1592291227068%26y%3D0%26z%3D0%26x%3D1%26w%3D2020-05-13%26in%3D8402_1607_00031166%26id%3D20200616)\n",
        "\n",
        "### 역전파\n",
        ": 신경망에서 경사하강법을 수행하는 기본 알고리즘입니다. 우선, 정방향 단계에서 각 노드의 출력 값을 계산하고 캐시합니다. 그런 다음 역방향 단계에서 그래프를 통과하며 각 매개변수를 기준으로 오차의 편미분을 계산합니다. [참고](https://developers.google.com/machine-learning/glossary#neural_network)\n",
        "\n",
        "### 강화학습\n",
        ": 기계 학습의 한 영역으로, 어떤 환경 안에서 학습하는 시스템을 에이전트라고 부르며, 에이전트가 현재의 상태를 인식하여 선택 가능한 행동들 중 보상을 최대화하는 행동 혹은 행동 순서를 학습하도록 하는 방법입니다. 강화 학습은 인공지능이 알아서 시행착오를 거치며 학습하도록 하기 때문에 많은 양의 데이터를 주입할 필요가 없습니다. [참고](https://blog.naver.com/shakey7/221536422960)\n",
        "\n",
        "### 과적합\n",
        ": 신경망이 학습 데이터에 과도하게 특화되어 학습됨으로써 학습에 사용된 데이터에 대해서는 성능이 좋지만 실제 응용에서의 새로운 데이터에 대해서는 오히려 성능이 떨어지는 현상입니다. 과적합을 해결하기 위해서는 '정규화'와 '드롭아웃'이라는 방법을 사용합니다. [참고](https://blog.naver.com/shakey7/221353817916)\n",
        "\n",
        "### 차원의 저주\n",
        ": 데이터 학습을 위해 차원이 증가하면서 학습데이터 수가 차원의 수보다 적어져 성능이 저하되는 현상입니다. 차원이 증가 할 수록 개별 차원내 학습할 데이터 수가 적어지는 현상이 발생합니다. 해결책으로는 차원을 줄이거나, 데이터를 더 많이 획득하여야 합니다. [참고](https://blog.naver.com/bosongmoon/221572630934)\n"
      ]
    },
    {
      "cell_type": "markdown",
      "metadata": {
        "id": "d-zfFXLCy6jD",
        "colab_type": "text"
      },
      "source": [
        "## 2. 딥러닝 강의 클론 코딩\n",
        "\n",
        "####__퍼셉트론 구조 구현하기__ \n",
        "딥러닝 강의(__딥러닝 원리[1] 3:15 ~ 5:15 부분__)를 보고 코드를 따라 치며 출력 결과를 만드세요.\n",
        " \n",
        "\n",
        "* 하나의 코드셀에 해당 코드를 한번에 다 적어서 실행해주세요 (__그렇게 하지 않을 경우, 아래 이미지와 같은 출력값이 나오지 않을 수 있습니다__)\n",
        "\n",
        "*__주의!__ 실제로 코딩해서 출력해보면 강의에 나온 출력 결과와 다르게 나옵니다!!\n"
      ]
    },
    {
      "cell_type": "code",
      "metadata": {
        "id": "7C1t7yntiRR_",
        "colab_type": "code",
        "colab": {
          "base_uri": "https://localhost:8080/",
          "height": 215
        },
        "outputId": "2fde285f-eefe-4110-8499-27896c69510a"
      },
      "source": [
        "import tensorflow as tf\n",
        "tf.compat.v1.set_random_seed(2020)\n",
        "x = 1\n",
        "y = 0\n",
        "w = tf.random.normal([1],0,1)\n",
        "\n",
        "import math\n",
        "def sigmoid(x):\n",
        "  return 1/(1+math.exp(-x))\n",
        "\n",
        "output = sigmoid(x*w)\n",
        "print(output)\n",
        "\n",
        "for i in range(1000):\n",
        "  output = sigmoid(x*w)\n",
        "  error = y - output\n",
        "  w = w + x * 0.1 * error\n",
        "\n",
        "  if i % 100 == 99:\n",
        "    print(\"학습 횟수:\",i, \"Eorror:\",error, \"예측 결과:\", output)"
      ],
      "execution_count": null,
      "outputs": [
        {
          "output_type": "stream",
          "text": [
            "0.47477188589261\n",
            "학습 횟수: 99 Eorror: -0.10010598284299604 예측 결과: 0.10010598284299604\n",
            "학습 횟수: 199 Eorror: -0.05178399422833116 예측 결과: 0.05178399422833116\n",
            "학습 횟수: 299 Eorror: -0.034590451977903586 예측 결과: 0.034590451977903586\n",
            "학습 횟수: 399 Eorror: -0.02588962752851373 예측 결과: 0.02588962752851373\n",
            "학습 횟수: 499 Eorror: -0.020658699939863617 예측 결과: 0.020658699939863617\n",
            "학습 횟수: 599 Eorror: -0.017174253993457355 예측 결과: 0.017174253993457355\n",
            "학습 횟수: 699 Eorror: -0.014689506449480992 예측 결과: 0.014689506449480992\n",
            "학습 횟수: 799 Eorror: -0.012829497265431342 예측 결과: 0.012829497265431342\n",
            "학습 횟수: 899 Eorror: -0.011385568271837804 예측 결과: 0.011385568271837804\n",
            "학습 횟수: 999 Eorror: -0.010232493309882492 예측 결과: 0.010232493309882492\n"
          ],
          "name": "stdout"
        }
      ]
    },
    {
      "cell_type": "markdown",
      "metadata": {
        "id": "wcc5mzI9oZ7r",
        "colab_type": "text"
      },
      "source": [
        "![대체 텍스트](https://www.notion.so/image/https%3A%2F%2Fs3-us-west-2.amazonaws.com%2Fsecure.notion-static.com%2F0cceeed0-0235-4b0f-af88-0b8c377d5b4b%2F_2020-06-09__9.35.23.png?table=block&id=88fd8912-9356-49a4-9fda-a1a63fe96ea9&width=2870&cache=v2)"
      ]
    },
    {
      "cell_type": "markdown",
      "metadata": {
        "id": "kr0HVRk8fOom",
        "colab_type": "text"
      },
      "source": [
        "## 3. 딥러닝 순전파 & 역전파 계산\n",
        "\n",
        "딥러닝 강의(__딥러닝 원리[2] 0:55 ~ 4:32 부분__)에 나오는 순전파 & 역전파 계산에 대한 문제 입니다.\n",
        "\n",
        "해당 영상과 다음 이미지를 참고하여 다음 2가지 물음에 답하세요.\n",
        "\n",
        "\n",
        "(1) 학습률이 0.2 일 경우 출력층의 노드값\n",
        "\n",
        "(2) 학습률이 0.1과 0.2 중 기대출력값이 지도데이터 \"3\"과 더 가까운 학습률은?"
      ]
    },
    {
      "cell_type": "markdown",
      "metadata": {
        "id": "CpwPFWhOUzww",
        "colab_type": "text"
      },
      "source": [
        "![대체 텍스트](https://www.notion.so/image/https%3A%2F%2Fs3-us-west-2.amazonaws.com%2Fsecure.notion-static.com%2Ff54dfd45-92ec-44ae-9616-6949d2484a45%2F_2020-06-10__5.22.03.png?table=block&id=ee05da89-3ceb-4ad9-a2d3-c9f68d24d1d9&width=3580&cache=v2)"
      ]
    },
    {
      "cell_type": "markdown",
      "metadata": {
        "id": "B2OVY7w5U3CI",
        "colab_type": "text"
      },
      "source": [
        "## (1) 학습률이 0.2 일 경우 출력층의 노드값 : 1.6\n",
        "## (2) 학습률이 0.1과 0.2 중 기대출력값이 지도데이터 \"3\"과 더 가까운 학습률은? : 0.1"
      ]
    }
  ]
}