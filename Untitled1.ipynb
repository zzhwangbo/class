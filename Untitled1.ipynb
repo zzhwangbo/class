{
  "nbformat": 4,
  "nbformat_minor": 0,
  "metadata": {
    "colab": {
      "name": "Untitled1.ipynb",
      "provenance": [],
      "authorship_tag": "ABX9TyOu8c46JTr+ufZH3HscW5dA",
      "include_colab_link": true
    },
    "kernelspec": {
      "name": "python3",
      "display_name": "Python 3"
    }
  },
  "cells": [
    {
      "cell_type": "markdown",
      "metadata": {
        "id": "view-in-github",
        "colab_type": "text"
      },
      "source": [
        "<a href=\"https://colab.research.google.com/github/zzhwangbo/class/blob/master/Untitled1.ipynb\" target=\"_parent\"><img src=\"https://colab.research.google.com/assets/colab-badge.svg\" alt=\"Open In Colab\"/></a>"
      ]
    },
    {
      "cell_type": "markdown",
      "metadata": {
        "id": "XcetWzQMm8FI",
        "colab_type": "text"
      },
      "source": [
        "* 첫째리스트\n",
        "* 둘째리스트\n",
        " * 둘째 리스트의 첫째 하위 리스트\n",
        " * 둘째 리스트의 둘째 하위 리스트\n",
        "* 셋째 리스트 "
      ]
    },
    {
      "cell_type": "markdown",
      "metadata": {
        "id": "Br3HanPmnrzA",
        "colab_type": "text"
      },
      "source": [
        "<링크>\n",
        "\n",
        "[구글](https://www.google.com)\n",
        "\n",
        "[네이버 스포츠](https://sports.naver.com)"
      ]
    },
    {
      "cell_type": "code",
      "metadata": {
        "id": "CsHfeTW7qWbE",
        "colab_type": "code",
        "colab": {}
      },
      "source": [
        "# 환영인사 함수\n",
        "def hello(name):\n",
        "  return f'환영합니다. {name}님!'"
      ],
      "execution_count": 0,
      "outputs": []
    },
    {
      "cell_type": "code",
      "metadata": {
        "id": "f4kkRz6nq5Q8",
        "colab_type": "code",
        "colab": {
          "base_uri": "https://localhost:8080/",
          "height": 53
        },
        "outputId": "22395def-0c36-4349-fbeb-9aacee2d6e5d"
      },
      "source": [
        "name = input('이름을 입력해주세요'   )\n",
        "hello(name)"
      ],
      "execution_count": 25,
      "outputs": [
        {
          "output_type": "stream",
          "text": [
            "이름을 입력해주세요dddd\n"
          ],
          "name": "stdout"
        },
        {
          "output_type": "execute_result",
          "data": {
            "text/plain": [
              "'환영합니다. dddd님!'"
            ]
          },
          "metadata": {
            "tags": []
          },
          "execution_count": 25
        }
      ]
    }
  ]
}